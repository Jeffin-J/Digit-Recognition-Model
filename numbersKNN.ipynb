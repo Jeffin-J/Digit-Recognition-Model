{
 "cells": [
  {
   "cell_type": "code",
   "execution_count": 8,
   "metadata": {},
   "outputs": [],
   "source": [
    "from scipy.io import loadmat\n",
    "mnist = loadmat(\"mnist-original.mat\")\n",
    "mnist_data = mnist[\"data\"].T\n",
    "mnist_label = mnist[\"label\"][0]\n"
   ]
  },
  {
   "cell_type": "code",
   "execution_count": 9,
   "metadata": {},
   "outputs": [],
   "source": [
    "from sklearn.preprocessing import StandardScaler\n",
    "import numpy as np\n",
    "#preprocessing the data.  We must first reshape the data to a 4D array(samples,width,height,number of colors), where each image is a different 2D matrix\n",
    "#Normalizing the values of the data, could experiment with minmax scaler too.  To do this, we must flatten the data to a 2D array, then turn it back into a 4D array\n",
    "#I do not need to look for null values because this data does not have any\n",
    "mnist_data = mnist_data.reshape(-1, 28, 28, 1)\n",
    "mnist_data_2d = mnist_data.reshape(-1, 28*28)\n",
    "scaler = StandardScaler()\n",
    "mnist_data_normalized = scaler.fit_transform(mnist_data_2d)\n",
    "#After the 2D data has been normalized, return it to a 4D array\n",
    "mnist_data_normalized = mnist_data_normalized.reshape(-1, 28, 28, 1)"
   ]
  },
  {
   "cell_type": "code",
   "execution_count": 10,
   "metadata": {},
   "outputs": [
    {
     "name": "stdout",
     "output_type": "stream",
     "text": [
      "(56000, 28, 28, 1) (56000,)\n",
      "(14000, 28, 28, 1) (14000,)\n"
     ]
    }
   ],
   "source": [
    "from sklearn.model_selection import train_test_split\n",
    "#Splitting the data into training and testing sets\n",
    "X_train, X_test, y_train, y_test = train_test_split(mnist_data_normalized, mnist_label, test_size=0.2, random_state=42)\n",
    "print(X_train.shape, y_train.shape)\n",
    "print(X_test.shape, y_test.shape)"
   ]
  },
  {
   "attachments": {},
   "cell_type": "markdown",
   "metadata": {},
   "source": [
    "Preprocessing is now complete.  KNN is now to be implemented."
   ]
  },
  {
   "cell_type": "code",
   "execution_count": 5,
   "metadata": {},
   "outputs": [],
   "source": [
    "#Using cross fold validation to find the best N value for KNN\n",
    "from sklearn.model_selection import cross_val_score\n",
    "from sklearn.neighbors import KNeighborsClassifier\n",
    "from sklearn.metrics import accuracy_score, f1_score\n",
    "\n",
    "X_train_flattened = X_train.reshape(X_train.shape[0], -1)\n",
    "X_test_flattened = X_test.reshape(X_test.shape[0], -1)\n",
    "\n",
    "neighbors = [1, 5, 7, 10, 15, 20]\n",
    "cv_scores = []\n",
    "\n",
    "for n in neighbors:\n",
    "    knn = KNeighborsClassifier(n_neighbors=n)\n",
    "    scores = cross_val_score(knn, X_train_flattened, y_train, cv=5, scoring='accuracy')\n",
    "    cv_scores.append(scores.mean())\n",
    "\n",
    "best_n = neighbors[cv_scores.index(max(cv_scores))]\n",
    "print(\"Best n_neighbors:\", best_n)\n",
    "\n",
    "knn = KNeighborsClassifier(n_neighbors=best_n)\n",
    "knn.fit(X_train_flattened, y_train)\n",
    "y_pred = knn.predict(X_test_flattened)\n",
    "accuracy = accuracy_score(y_test, y_pred)\n",
    "print(\"KNN accuracy:\", accuracy)\n",
    "f1 = f1_score(y_test, y_pred, average='macro')\n",
    "print(\"Macro F1 score:\", f1)\n",
    "f1 = f1_score(y_test, y_pred, average='micro')\n",
    "print(\"Micro F1 score:\", f1)"
   ]
  },
  {
   "cell_type": "code",
   "execution_count": 15,
   "metadata": {},
   "outputs": [
    {
     "name": "stdout",
     "output_type": "stream",
     "text": [
      "KNN accuracy: 0.9459285714285715\n",
      "Macro F1 score: 0.9452349162519578\n",
      "Micro F1 score: 0.9459285714285716\n",
      "Macro precision score: 0.9455855017929776\n",
      "Micro precision score: 0.9459285714285715\n",
      "Macro recall score: 0.9450852528902273\n",
      "Micro recall score: 0.9459285714285715\n",
      "MAE: 0.1935\n"
     ]
    }
   ],
   "source": [
    "from sklearn.neighbors import KNeighborsClassifier\n",
    "from sklearn.metrics import accuracy_score, f1_score\n",
    "from sklearn.model_selection import cross_val_score\n",
    "from sklearn.metrics import accuracy_score, f1_score, precision_score, recall_score, mean_absolute_error\n",
    "\n",
    "#for KNN to work, x_train must be a 2D array, so we must flatten it\n",
    "#in the reshape, the -1 means that it will be a 2D array with the number of rows being the same as the original array, and the number of columns being 28*28\n",
    "X_train_flattened = X_train.reshape(X_train.shape[0], -1)\n",
    "X_test_flattened = X_test.reshape(X_test.shape[0], -1)\n",
    "\n",
    "knn = KNeighborsClassifier(n_neighbors=1)\n",
    "knn.fit(X_train_flattened, y_train)\n",
    "y_pred = knn.predict(X_test_flattened)\n",
    "accuracy = accuracy_score(y_test, y_pred)\n",
    "print(\"KNN accuracy:\", accuracy)\n",
    "f1 = f1_score(y_test, y_pred, average='macro')\n",
    "print(\"Macro F1 score:\", f1)\n",
    "f1 = f1_score(y_test, y_pred, average='micro')\n",
    "print(\"Micro F1 score:\", f1)\n",
    "precision_macro = precision_score(y_test, y_pred, average='macro')\n",
    "print(\"Macro precision score:\", precision_macro)\n",
    "precision_micro = precision_score(y_test, y_pred, average='micro')\n",
    "print(\"Micro precision score:\", precision_micro)\n",
    "recall_macro = recall_score(y_test, y_pred, average='macro')\n",
    "print(\"Macro recall score:\", recall_macro)\n",
    "recall_micro = recall_score(y_test, y_pred, average='micro')\n",
    "print(\"Micro recall score:\", recall_micro)\n",
    "mae = mean_absolute_error(y_test, y_pred)\n",
    "print(\"MAE:\", mae)"
   ]
  },
  {
   "cell_type": "code",
   "execution_count": 16,
   "metadata": {},
   "outputs": [
    {
     "name": "stdout",
     "output_type": "stream",
     "text": [
      "155\n",
      "KNN accuracy: 0.9466428571428571\n",
      "Macro F1 score: 0.945982654965926\n",
      "Micro F1 score: 0.9466428571428571\n",
      "Macro precision score: 0.9464147738366508\n",
      "Micro precision score: 0.9466428571428571\n",
      "Macro recall score: 0.945801091575348\n",
      "Micro recall score: 0.9466428571428571\n",
      "MAE: 0.192\n",
      "1561\n",
      "KNN accuracy: 0.9499285714285715\n",
      "Macro F1 score: 0.9492336547602637\n",
      "Micro F1 score: 0.9499285714285715\n",
      "Macro precision score: 0.9496376144304435\n",
      "Micro precision score: 0.9499285714285715\n",
      "Macro recall score: 0.9490259279897023\n",
      "Micro recall score: 0.9499285714285715\n",
      "MAE: 0.1792857142857143\n",
      "15624\n",
      "KNN accuracy: 0.9611428571428572\n",
      "Macro F1 score: 0.960740376894659\n",
      "Micro F1 score: 0.9611428571428572\n",
      "Macro precision score: 0.9609978076976138\n",
      "Micro precision score: 0.9611428571428572\n",
      "Macro recall score: 0.960587378380613\n",
      "Micro recall score: 0.9611428571428572\n",
      "MAE: 0.13285714285714287\n"
     ]
    }
   ],
   "source": [
    "from keras.preprocessing.image import ImageDataGenerator\n",
    "from sklearn.neighbors import KNeighborsClassifier\n",
    "from sklearn.metrics import accuracy_score, f1_score, precision_score, recall_score, mean_absolute_error\n",
    "from sklearn.model_selection import cross_val_score\n",
    "#print(X_train.shape, y_train.shape)\n",
    "additionalImages=[10000, 100000, 1000000]\n",
    "for i in additionalImages:\n",
    "    datagen = ImageDataGenerator(\n",
    "            rotation_range=25,  \n",
    "            zoom_range = 0.20,  \n",
    "            )\n",
    "    datagen.fit(X_train)\n",
    "\n",
    "    gen_augmented = datagen.flow(X_train, y_train, batch_size=64)\n",
    "    augmented_images = []\n",
    "    augmented_labels = []\n",
    "    for i in range(i // 64):\n",
    "        batch_augmented_images, batch_augmented_labels = next(gen_augmented)\n",
    "        augmented_images.append(batch_augmented_images)\n",
    "        augmented_labels.append(batch_augmented_labels)\n",
    "\n",
    "    augmented_images = np.concatenate(augmented_images, axis=0)\n",
    "    augmented_labels = np.concatenate(augmented_labels, axis=0)\n",
    "    X_train_augmented = np.concatenate([X_train, augmented_images], axis=0)\n",
    "    y_train_augmented = np.concatenate([y_train, augmented_labels], axis=0)\n",
    "    #print(X_train_augmented.shape, y_train_augmented.shape)\n",
    "    #print(augmented_images.shape, augmented_labels.shape)\n",
    "    X_train_flattened = X_train_augmented.reshape(X_train_augmented.shape[0], -1)\n",
    "    X_test_flattened = X_test.reshape(X_test.shape[0], -1)\n",
    "    #cross fold validation showed us 1 neighbor is the most accurate\n",
    "    knn = KNeighborsClassifier(n_neighbors=1)\n",
    "    knn.fit(X_train_flattened, y_train_augmented)\n",
    "    y_pred = knn.predict(X_test_flattened)\n",
    "    accuracy = accuracy_score(y_test, y_pred)\n",
    "    print(i)\n",
    "    print(\"KNN accuracy:\", accuracy)\n",
    "    f1 = f1_score(y_test, y_pred, average='macro')\n",
    "    print(\"Macro F1 score:\", f1)\n",
    "    f1 = f1_score(y_test, y_pred, average='micro')\n",
    "    print(\"Micro F1 score:\", f1)\n",
    "    precision_macro = precision_score(y_test, y_pred, average='macro')\n",
    "    print(\"Macro precision score:\", precision_macro)\n",
    "    precision_micro = precision_score(y_test, y_pred, average='micro')\n",
    "    print(\"Micro precision score:\", precision_micro)\n",
    "    recall_macro = recall_score(y_test, y_pred, average='macro')\n",
    "    print(\"Macro recall score:\", recall_macro)\n",
    "    recall_micro = recall_score(y_test, y_pred, average='micro')\n",
    "    print(\"Micro recall score:\", recall_micro)\n",
    "    mae = mean_absolute_error(y_test, y_pred)\n",
    "    print(\"MAE:\", mae)"
   ]
  },
  {
   "cell_type": "code",
   "execution_count": null,
   "metadata": {},
   "outputs": [],
   "source": []
  }
 ],
 "metadata": {
  "kernelspec": {
   "display_name": "myenv",
   "language": "python",
   "name": "python3"
  },
  "language_info": {
   "codemirror_mode": {
    "name": "ipython",
    "version": 3
   },
   "file_extension": ".py",
   "mimetype": "text/x-python",
   "name": "python",
   "nbconvert_exporter": "python",
   "pygments_lexer": "ipython3",
   "version": "3.11.0"
  },
  "orig_nbformat": 4
 },
 "nbformat": 4,
 "nbformat_minor": 2
}
